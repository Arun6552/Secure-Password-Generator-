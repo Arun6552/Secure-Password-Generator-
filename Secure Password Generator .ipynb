{
 "cells": [
  {
   "cell_type": "code",
   "execution_count": 2,
   "source": [
    "import random\r\n",
    "import array\r\n",
    "  \r\n",
    "# maximum length of password needed\r\n",
    "# this can be changed to suit your password length\r\n",
    "MAX_LEN = 12\r\n",
    "  \r\n",
    "# declare arrays of the character that we need in out password\r\n",
    "# Represented as chars to enable easy string concatenation\r\n",
    "DIGITS = ['0', '1', '2', '3', '4', '5', '6', '7', '8', '9']  \r\n",
    "LOCASE_CHARACTERS = ['a', 'b', 'c', 'd', 'e', 'f', 'g', 'h', \r\n",
    "                     'i', 'j', 'k', 'm', 'n', 'o', 'p', 'q',\r\n",
    "                     'r', 's', 't', 'u', 'v', 'w', 'x', 'y',\r\n",
    "                     'z']\r\n",
    "  \r\n",
    "UPCASE_CHARACTERS = ['A', 'B', 'C', 'D', 'E', 'F', 'G', 'H', \r\n",
    "                     'I', 'J', 'K', 'M', 'N', 'O', 'p', 'Q',\r\n",
    "                     'R', 'S', 'T', 'U', 'V', 'W', 'X', 'Y',\r\n",
    "                     'Z']\r\n",
    "  \r\n",
    "SYMBOLS = ['@', '#', '$', '%', '=', ':', '?', '.', '/', '|', '~', '>', \r\n",
    "           '*', '(', ')', '<']\r\n",
    "  \r\n",
    "# combines all the character arrays above to form one array\r\n",
    "COMBINED_LIST = DIGITS + UPCASE_CHARACTERS + LOCASE_CHARACTERS + SYMBOLS\r\n",
    "  \r\n",
    "# randomly select at least one character from each character set above\r\n",
    "rand_digit = random.choice(DIGITS)\r\n",
    "rand_upper = random.choice(UPCASE_CHARACTERS)\r\n",
    "rand_lower = random.choice(LOCASE_CHARACTERS)\r\n",
    "rand_symbol = random.choice(SYMBOLS)\r\n",
    "  \r\n",
    "# combine the character randomly selected above\r\n",
    "# at this stage, the password contains only 4 characters but \r\n",
    "# we want a 12-character password\r\n",
    "temp_pass = rand_digit + rand_upper + rand_lower + rand_symbol\r\n",
    "  \r\n",
    "  \r\n",
    "# now that we are sure we have at least one character from each\r\n",
    "# set of characters, we fill the rest of\r\n",
    "# the password length by selecting randomly from the combined \r\n",
    "# list of character above.\r\n",
    "for x in range(MAX_LEN - 4):\r\n",
    "    temp_pass = temp_pass + random.choice(COMBINED_LIST)\r\n",
    "  \r\n",
    "    # convert temporary password into array and shuffle to \r\n",
    "    # prevent it from having a consistent pattern\r\n",
    "    # where the beginning of the password is predictable\r\n",
    "    temp_pass_list = array.array('u', temp_pass)\r\n",
    "    random.shuffle(temp_pass_list)\r\n",
    "  \r\n",
    "# traverse the temporary password array and append the chars\r\n",
    "# to form the password\r\n",
    "password = \"\"\r\n",
    "for x in temp_pass_list:\r\n",
    "        password = password + x\r\n",
    "          \r\n",
    "# print out password\r\n",
    "print(password)"
   ],
   "outputs": [
    {
     "output_type": "stream",
     "name": "stdout",
     "text": [
      "Enter the password length:\n",
      "5\n",
      "8cI6tc\n"
     ]
    }
   ],
   "metadata": {}
  },
  {
   "cell_type": "code",
   "execution_count": 3,
   "source": [
    "import tkinter as tk\r\n",
    "import random\r\n",
    "def generate_password():\r\n",
    "    characters  = \"abcdefghijklmnopqrstuvwxyz1234567890!@#$%^&*ABCDEFGHIJKLMNOPQRSTUVWXYZ\"\r\n",
    "    password =\"\"\r\n",
    "#     length = int(input(\"Enter the password length\"))\r\n",
    "    length =8\r\n",
    "    for i in range(length+1):\r\n",
    "        password+=random.choice(characters)\r\n",
    "    label.config(text=password)\r\n",
    "    \r\n",
    "\r\n",
    "\r\n",
    "root = tk.Tk()\r\n",
    "root.geometry(\"500x500\")\r\n",
    "root.title(\"Password Generator\")\r\n",
    "\r\n",
    "button = tk.Button(root,text='Generate Password',command=generate_password)\r\n",
    "button.grid(row=2,column=2)\r\n",
    "label = tk.Label(root,font=(\"times\",15,\"bold\"))\r\n",
    "label.grid(row=4,column=6)\r\n",
    "root.mainloop()"
   ],
   "outputs": [],
   "metadata": {}
  },
  {
   "cell_type": "code",
   "execution_count": 4,
   "source": [
    "import tkinter as tk\r\n",
    "import random\r\n",
    "def generate_password():\r\n",
    "    characters  = \"abcdefghijklmnopqrstuvwxyz1234567890!@#$%^&*ABCDEFGHIJKLMNOPQRSTUVWXYZ\"\r\n",
    "    password =\"\"\r\n",
    "#     length = int(input(\"Enter the password length\"))\r\n",
    "    length =8\r\n",
    "    for i in range(length+1):\r\n",
    "        password+=random.choice(characters)\r\n",
    "    label.config(text=password)\r\n",
    "    \r\n",
    "\r\n",
    "\r\n",
    "root = tk.Tk()\r\n",
    "root.geometry(\"500x500\")\r\n",
    "root.title(\"Password Generator\")\r\n",
    "\r\n",
    "button = tk.Button(root,text='Generate Password',command=generate_password)\r\n",
    "button.grid(row=2,column=2)\r\n",
    "label = tk.Label(root,font=(\"times\",15,\"bold\"))\r\n",
    "label.grid(row=4,column=6)\r\n",
    "root.mainloop()"
   ],
   "outputs": [],
   "metadata": {}
  },
  {
   "cell_type": "code",
   "execution_count": 5,
   "source": [
    "import string \n",
    "import random \n",
    "def generate_password():\n",
    "    characters = string.digits+string.punctuation+string.ascii_letters\n",
    "    password =\"\"\n",
    "    length = int(input(\"Enter the password length:\\n\"))\n",
    "    for i in range(length):\n",
    "        password+=random.choice(characters)\n",
    "    return password\n",
    "a=generate_password()\n",
    "print(a)\n",
    "password +=a\n",
    "print(password)"
   ],
   "outputs": [
    {
     "output_type": "stream",
     "name": "stdout",
     "text": [
      "Enter the password length:\n",
      "5\n",
      ";zsGL\n"
     ]
    },
    {
     "output_type": "error",
     "ename": "NameError",
     "evalue": "name 'password' is not defined",
     "traceback": [
      "\u001b[1;31m---------------------------------------------------------------------------\u001b[0m",
      "\u001b[1;31mNameError\u001b[0m                                 Traceback (most recent call last)",
      "\u001b[1;32m<ipython-input-5-0663b66cf6b5>\u001b[0m in \u001b[0;36m<module>\u001b[1;34m\u001b[0m\n\u001b[0;32m     10\u001b[0m \u001b[0ma\u001b[0m\u001b[1;33m=\u001b[0m\u001b[0mgenerate_password\u001b[0m\u001b[1;33m(\u001b[0m\u001b[1;33m)\u001b[0m\u001b[1;33m\u001b[0m\u001b[1;33m\u001b[0m\u001b[0m\n\u001b[0;32m     11\u001b[0m \u001b[0mprint\u001b[0m\u001b[1;33m(\u001b[0m\u001b[0ma\u001b[0m\u001b[1;33m)\u001b[0m\u001b[1;33m\u001b[0m\u001b[1;33m\u001b[0m\u001b[0m\n\u001b[1;32m---> 12\u001b[1;33m \u001b[0mpassword\u001b[0m\u001b[1;33m+=\u001b[0m\u001b[0ma\u001b[0m\u001b[1;33m\u001b[0m\u001b[1;33m\u001b[0m\u001b[0m\n\u001b[0m\u001b[0;32m     13\u001b[0m \u001b[0mprint\u001b[0m\u001b[1;33m(\u001b[0m\u001b[0mpassword\u001b[0m\u001b[1;33m)\u001b[0m\u001b[1;33m\u001b[0m\u001b[1;33m\u001b[0m\u001b[0m\n",
      "\u001b[1;31mNameError\u001b[0m: name 'password' is not defined"
     ]
    }
   ],
   "metadata": {}
  },
  {
   "cell_type": "code",
   "execution_count": null,
   "source": [
    "import tkinter as tk\n",
    "import string\n",
    "import random\n",
    "def generate_password():\n",
    "    password = []\n",
    "    for i in range(5):\n",
    "        alpha = random.choice(string.ascii_letters)\n",
    "        symbol = random.choice(string.punctuation)\n",
    "        numbers = random.choice(string.digits)\n",
    "        password.append(alpha)\n",
    "        password.append(symbol)\n",
    "        password.append(numbers)\n",
    "        passwords = \" \".join(str(x)for x in password)\n",
    "        label.config(text=passwords)\n",
    "root = tk.Tk()\n",
    "root.geometry(\"400x300\")\n",
    "button = tk.Button(root, text=\"Generate Password\", command=generate_password)\n",
    "button.grid(row=1, column=1)\n",
    "label = tk.Label(root, font=(\"times\", 15, \"bold\"))\n",
    "label.grid(row=4, column=2)\n",
    "root.mainloop()"
   ],
   "outputs": [],
   "metadata": {}
  },
  {
   "cell_type": "code",
   "execution_count": null,
   "source": [],
   "outputs": [],
   "metadata": {}
  }
 ],
 "metadata": {
  "kernelspec": {
   "display_name": "Python 3",
   "language": "python",
   "name": "python3"
  }
 },
 "nbformat": 4,
 "nbformat_minor": 5
}